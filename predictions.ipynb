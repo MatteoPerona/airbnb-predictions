{
 "cells": [
  {
   "cell_type": "code",
   "execution_count": 1,
   "metadata": {},
   "outputs": [],
   "source": [
    "import numpy as np\n",
    "import pandas as pd \n",
    "import re\n",
    "from datetime import datetime\n",
    "\n",
    "import seaborn as sns\n",
    "import matplotlib.pyplot as plt"
   ]
  },
  {
   "cell_type": "code",
   "execution_count": 2,
   "metadata": {},
   "outputs": [
    {
     "name": "stderr",
     "output_type": "stream",
     "text": [
      "/var/folders/vb/08bw66p50l7fsmzng9tj5m9h0000gn/T/ipykernel_44583/2436019669.py:1: DtypeWarning: Columns (30) have mixed types. Specify dtype option on import or set low_memory=False.\n",
      "  df = pd.read_csv('train.csv')\n"
     ]
    }
   ],
   "source": [
    "df = pd.read_csv('train.csv')"
   ]
  },
  {
   "cell_type": "markdown",
   "metadata": {},
   "source": [
    "## Cleaning"
   ]
  },
  {
   "cell_type": "markdown",
   "metadata": {},
   "source": [
    "### Purge"
   ]
  },
  {
   "cell_type": "code",
   "execution_count": 3,
   "metadata": {},
   "outputs": [],
   "source": [
    "df_cleaned = df.drop([\n",
    "    'id', \n",
    "    'host_name', \n",
    "    'country', \n",
    "    'country_code', \n",
    "    'state', \n",
    "    'market', \n",
    "    'city', \n",
    "    'host_neighbourhood', \n",
    "    'host_acceptance_rate', \n",
    "    'experiences_offered'], axis=1)"
   ]
  },
  {
   "cell_type": "markdown",
   "metadata": {},
   "source": [
    "### Format"
   ]
  },
  {
   "cell_type": "code",
   "execution_count": 4,
   "metadata": {},
   "outputs": [],
   "source": [
    "# Clean and format dates\n",
    "date_features = ['host_since', 'first_review', 'last_review']\n",
    "for i in range(len(date_features)):\n",
    "    df_cleaned[date_features[i]] = df_cleaned[date_features[i]].apply(lambda x: \\\n",
    "        datetime.strptime(x, '%Y-%m-%d').timestamp() \\\n",
    "        if x is not np.nan else x)\n",
    "\n",
    "\n",
    "# Clean bool features\n",
    "bool_features = [\n",
    "    'require_guest_phone_verification', \n",
    "    'require_guest_profile_picture', \n",
    "    'is_business_travel_ready',\n",
    "    'instant_bookable',\n",
    "    'host_identity_verified',\n",
    "    'host_has_profile_pic',\n",
    "    'host_is_superhost']\n",
    "\n",
    "for i in range(len(bool_features)):\n",
    "    df_cleaned[bool_features[i]] = df_cleaned[bool_features[0]] \\\n",
    "        .apply(lambda x: x=='t' or x==True if x is not np.nan else x)\n",
    "    \n",
    "\n",
    "# Converting string features containing numeric information to numeric dtypes.\n",
    "# Converts host_response_rate from strings representing percentages to proportions.\n",
    "df_cleaned['host_response_rate'] = df_cleaned['host_response_rate'].apply(\n",
    "    lambda x: float(x.replace('%',''))/100 if x is not np.nan else x)\n",
    "# Converts extra_people from strings representing prices to floats.\n",
    "df_cleaned['extra_people'] = df_cleaned['extra_people'].apply(\n",
    "    lambda x: float(x.replace('$','')) if x is not np.nan else x)\n",
    "\n",
    "\n",
    "# Removes most doubles from zipcode by correcting formatting \n",
    "df_cleaned.zipcode = df_cleaned.zipcode.apply(\n",
    "    lambda x: str(x).replace('.0', ''))\n"
   ]
  },
  {
   "cell_type": "markdown",
   "metadata": {},
   "source": [
    "### Encode"
   ]
  },
  {
   "cell_type": "code",
   "execution_count": 5,
   "metadata": {},
   "outputs": [
    {
     "name": "stdout",
     "output_type": "stream",
     "text": [
      "nan\n",
      "nan\n",
      "nan\n",
      "nan\n",
      "nan\n"
     ]
    }
   ],
   "source": [
    "# One-hot encodes the host verifications\n",
    "\n",
    "# Find unique verifications in host_verifications feature\n",
    "unique_host_verifications = pd.Series(\n",
    "    ', '.join(list(df.host_verifications.apply(\n",
    "        lambda x: x.replace(']', '').replace('[', '').replace(\"'\", '') \\\n",
    "            if x is not np.nan else '').unique())).split(','))\\\n",
    "    .apply(lambda x: x.replace(' ', ''))\\\n",
    "    .unique()\n",
    "unique_host_verifications = np.delete(unique_host_verifications, 17)\n",
    "\n",
    "\n",
    "verified_df = {v:[] for v in unique_host_verifications}\n",
    "# Helper function to check if a verification is in the strings in host_verifications\n",
    "def word_in_string(word, string):\n",
    "    pattern = r'\\b{}\\b'.format(re.escape(word))  # \\b is a word boundary\n",
    "    match = re.search(pattern, string)\n",
    "    return bool(match)\n",
    "# For each string in host_verifications, extracts all the verif_strings\n",
    "for verif_string in df_cleaned.host_verifications:\n",
    "    if type(verif_string) != str:\n",
    "        print(verif_string)\n",
    "        for v in unique_host_verifications:\n",
    "            verified_df[v].append(False)\n",
    "        continue\n",
    "    for v in unique_host_verifications:\n",
    "        verified_df[v].append(word_in_string(v, verif_string))\n",
    "\n",
    "verified_df = pd.DataFrame(verified_df)\n",
    "\n",
    "df_cleaned = df_cleaned.reset_index(drop=True) \\\n",
    "    .merge(verified_df, left_index=True, right_index=True)\n",
    "df_cleaned = df_cleaned.drop(['host_verifications'], axis=1)"
   ]
  },
  {
   "cell_type": "code",
   "execution_count": 6,
   "metadata": {},
   "outputs": [],
   "source": [
    "nyc_zip_codes = pd.read_csv('nyc-zip-codes.csv')\n",
    "\n",
    "z1 = df_cleaned.zipcode.apply(lambda x: str(x).replace('.0', ''))\n",
    "\n",
    "z2 = z1.apply(lambda x: x if '-' not in x else x.split('-')[0])\n",
    "\n",
    "z3 = z2.apply(lambda x: x if '\\n' not in x else x.split('\\n')[0])\n",
    "\n",
    "def zip_to_int(zipcode):\n",
    "    try: return int(zipcode)\n",
    "    except: return np.nan\n",
    "\n",
    "int_zips = z3.apply(zip_to_int)\n",
    "\n",
    "valid_zips = int_zips.apply(\n",
    "    lambda x: x if sum(x==nyc_zip_codes.ZipCode)>=1 else np.nan)\n",
    "\n",
    "one_hot_zipcodes = pd.get_dummies(valid_zips)\n",
    "one_hot_zipcodes = one_hot_zipcodes.reindex(columns=nyc_zip_codes.ZipCode, fill_value=0)\n",
    "\n",
    "df_cleaned = df_cleaned.reset_index(drop=True) \\\n",
    "    .merge(one_hot_zipcodes, left_index=True, right_index=True)\n",
    "df_cleaned = df_cleaned.drop(['zipcode'], axis=1)"
   ]
  },
  {
   "cell_type": "code",
   "execution_count": 7,
   "metadata": {},
   "outputs": [],
   "source": [
    "one_hot_features = [\n",
    "    'room_type', \n",
    "    'neighbourhood_group_cleansed', \n",
    "    'bed_type', \n",
    "    'host_response_time', \n",
    "    'cancellation_policy', \n",
    "    'property_type',\n",
    "    'neighbourhood_cleansed']\n",
    "\n",
    "df_cleaned = pd.get_dummies(df_cleaned, columns=one_hot_features)"
   ]
  },
  {
   "cell_type": "markdown",
   "metadata": {},
   "source": [
    "### Imputation of Missing Values"
   ]
  },
  {
   "cell_type": "code",
   "execution_count": 8,
   "metadata": {},
   "outputs": [],
   "source": [
    "# Impute host response time with means\n",
    "df_cleaned.host_response_rate = df_cleaned.host_response_rate \\\n",
    "    .fillna(df_cleaned.host_response_rate.mean())\n",
    "\n",
    "# Impute host_since with the mode\n",
    "df_cleaned.host_since = df_cleaned.host_since \\\n",
    "    .fillna(1.427699e+09)\n",
    "\n",
    "# Impute host_listings_count with mean\n",
    "df_cleaned.host_listings_count = df_cleaned.host_listings_count \\\n",
    "    .fillna(df_cleaned.host_listings_count.mean())\n",
    "\n",
    "# Impute bathrooms with mean\n",
    "df_cleaned.bathrooms = df_cleaned.bathrooms \\\n",
    "    .fillna(df_cleaned.bathrooms.mean())\n",
    "\n",
    "# Impute bedrooms with mean\n",
    "df_cleaned.bedrooms = df_cleaned.bedrooms \\\n",
    "    .fillna(df_cleaned.bedrooms.mean())\n",
    "\n",
    "# Impute beds with mean\n",
    "df_cleaned.beds = df_cleaned.beds \\\n",
    "    .fillna(df_cleaned.beds.mean())\n",
    "\n",
    "\n",
    "## The following are missing a significant number of values ## \n",
    "## Consider a stronger method of imputation for these ##\n",
    "\n",
    "# Impute first_review with mode\n",
    "df_cleaned.first_review = df_cleaned.first_review \\\n",
    "    .fillna(df_cleaned.first_review.mode())\n",
    "\n",
    "# Impute last_review with mode\n",
    "df_cleaned.last_review = df_cleaned.last_review \\\n",
    "    .fillna(df_cleaned.last_review.mode())\n",
    "\n",
    "# Impute review_scores_rating with mean\n",
    "df_cleaned.review_scores_rating = df_cleaned.review_scores_rating \\\n",
    "    .fillna(df_cleaned.review_scores_rating.mean())\n",
    "\n",
    "# Impute review_scores_accuracy with mean\n",
    "df_cleaned.review_scores_accuracy = df_cleaned.review_scores_accuracy \\\n",
    "    .fillna(df_cleaned.review_scores_accuracy.mean())\n",
    "\n",
    "# Impute review_scores_cleanliness with mean\n",
    "df_cleaned.review_scores_cleanliness = df_cleaned.review_scores_cleanliness \\\n",
    "    .fillna(df_cleaned.review_scores_cleanliness.mean())\n",
    "\n",
    "# Impute review_scores_checkin with mean\n",
    "df_cleaned.review_scores_checkin = df_cleaned.review_scores_checkin \\\n",
    "    .fillna(df_cleaned.review_scores_checkin.mean())\n",
    "\n",
    "# Impute review_scores_communication with mean\n",
    "df_cleaned.review_scores_communication = df_cleaned.review_scores_communication \\\n",
    "    .fillna(df_cleaned.review_scores_communication.mean())\n",
    "\n",
    "# Impute review_scores_location with mean\n",
    "df_cleaned.review_scores_location = df_cleaned.review_scores_location \\\n",
    "    .fillna(df_cleaned.review_scores_location.mean())\n",
    "\n",
    "# Impute review_scores_value with mean\n",
    "df_cleaned.review_scores_value = df_cleaned.review_scores_value \\\n",
    "    .fillna(df_cleaned.review_scores_value.mean())\n",
    "\n",
    "# Impute reviews_per_month with mean\n",
    "df_cleaned.reviews_per_month = df_cleaned.reviews_per_month \\\n",
    "    .fillna(df_cleaned.reviews_per_month.mean())\n",
    "\n",
    "# Impute last_review with the mode\n",
    "df_cleaned.last_review = df_cleaned.last_review \\\n",
    "    .fillna(1.540710e+09)\n",
    "\n",
    "# Impute first_review with the mode\n",
    "df_cleaned.first_review = df_cleaned.last_review \\\n",
    "    .fillna(1.514794e+09)\n",
    "\n",
    "# Since almost all of square feet is missing we impute it as a boolean\n",
    "df_cleaned.square_feet = ~df_cleaned.square_feet.isna()"
   ]
  },
  {
   "cell_type": "markdown",
   "metadata": {},
   "source": [
    "## Model"
   ]
  },
  {
   "cell_type": "code",
   "execution_count": 9,
   "metadata": {},
   "outputs": [],
   "source": [
    "from sklearn.model_selection import train_test_split"
   ]
  },
  {
   "cell_type": "code",
   "execution_count": 10,
   "metadata": {},
   "outputs": [],
   "source": [
    "cols_to_exclude = [\n",
    "    'name',\n",
    "    'summary',\n",
    "    'space',\n",
    "    'description',\n",
    "    'neighborhood_overview',\n",
    "    'notes',\n",
    "    'transit',\n",
    "    'access',\n",
    "    'interaction',\n",
    "    'house_rules',\n",
    "    'host_location',\n",
    "    'host_about',\n",
    "    'amenities',\n",
    "    'host_id']"
   ]
  },
  {
   "cell_type": "code",
   "execution_count": 13,
   "metadata": {},
   "outputs": [
    {
     "name": "stdout",
     "output_type": "stream",
     "text": [
      "X_train shape: (26830, 501)\n",
      "X_test shape: (6708, 501)\n",
      "y_train shape: (26830,)\n",
      "y_test shape: (6708,)\n"
     ]
    }
   ],
   "source": [
    "model_df = df_cleaned.drop(cols_to_exclude, axis=1)\n",
    "model_df = model_df[model_df.columns[0:]]\n",
    "\n",
    "X = model_df.drop(['price'], axis=1)\n",
    "y = model_df.price\n",
    "\n",
    "# Split the data into training and testing sets\n",
    "X_train, X_test, y_train, y_test = train_test_split(X, y, test_size=0.2, random_state=42)\n",
    "\n",
    "# Print the shapes of the training and testing sets\n",
    "print(\"X_train shape:\", X_train.shape)\n",
    "print(\"X_test shape:\", X_test.shape)\n",
    "print(\"y_train shape:\", y_train.shape)\n",
    "print(\"y_test shape:\", y_test.shape)"
   ]
  },
  {
   "cell_type": "code",
   "execution_count": 14,
   "metadata": {},
   "outputs": [
    {
     "name": "stdout",
     "output_type": "stream",
     "text": [
      "Training RMSE: 57.50920596740549\n",
      "Testing RMSE: 89.6666716547086\n"
     ]
    }
   ],
   "source": [
    "import xgboost as xgb\n",
    "from sklearn.metrics import root_mean_squared_error\n",
    "\n",
    "# Create an XGBoost regressor (or classifier based on your problem)\n",
    "model = xgb.XGBRegressor(objective='reg:squarederror', random_state=42)\n",
    "\n",
    "# Train the model\n",
    "model.fit(X_train, y_train)\n",
    "\n",
    "# Make predictions on the training data\n",
    "y_train_pred = model.predict(X_train)\n",
    "\n",
    "# Calculate the training RMSE (Root Mean Squared Error)\n",
    "train_rmse = root_mean_squared_error(y_train, y_train_pred)\n",
    "print(\"Training RMSE:\", train_rmse)\n",
    "\n",
    "# Optionally, make predictions on the testing data\n",
    "y_test_pred = model.predict(X_test)\n",
    "\n",
    "# Calculate the testing RMSE (Root Mean Squared Error)\n",
    "test_rmse = root_mean_squared_error(y_test, y_test_pred)\n",
    "print(\"Testing RMSE:\", test_rmse)"
   ]
  },
  {
   "cell_type": "code",
   "execution_count": null,
   "metadata": {},
   "outputs": [
    {
     "name": "stdout",
     "output_type": "stream",
     "text": [
      "Fitting 5 folds for each of 18 candidates, totalling 90 fits\n"
     ]
    },
    {
     "name": "stdout",
     "output_type": "stream",
     "text": [
      "Best Parameters: {'learning_rate': 0.1, 'max_depth': 5, 'n_estimators': 200}\n",
      "Best Score (RMSE): 86.02238819820607\n",
      "Testing RMSE with Best Model: 88.28455816518493\n"
     ]
    },
    {
     "name": "stderr",
     "output_type": "stream",
     "text": [
      "/usr/local/lib/python3.10/site-packages/sklearn/metrics/_regression.py:483: FutureWarning: 'squared' is deprecated in version 1.4 and will be removed in 1.6. To calculate the root mean squared error, use the function'root_mean_squared_error'.\n",
      "  warnings.warn(\n"
     ]
    }
   ],
   "source": [
    "import xgboost as xgb\n",
    "from sklearn.model_selection import GridSearchCV\n",
    "from sklearn.metrics import mean_squared_error\n",
    "from sklearn.model_selection import KFold\n",
    "\n",
    "# Create an XGBoost regressor\n",
    "model = xgb.XGBRegressor(objective='reg:squarederror', random_state=42)\n",
    "\n",
    "# Define the grid of hyperparameters to search\n",
    "param_grid = {\n",
    "    'learning_rate': [0.1, 0.01],\n",
    "    'max_depth': [3, 5, 7],\n",
    "    'n_estimators': [50, 100, 200]\n",
    "}\n",
    "\n",
    "# Perform Grid Search with 5-fold cross-validation\n",
    "kf = KFold(n_splits=5, shuffle=True, random_state=42)\n",
    "grid_search = GridSearchCV(estimator=model, param_grid=param_grid, scoring='neg_mean_squared_error', cv=kf, verbose=1, n_jobs=-1)\n",
    "grid_result = grid_search.fit(X_train, y_train)\n",
    "\n",
    "# Get the best parameters and best score\n",
    "best_params = grid_result.best_params_\n",
    "best_score = grid_result.best_score_\n",
    "\n",
    "print(\"Best Parameters:\", best_params)\n",
    "print(\"Best Score (RMSE):\", (-best_score)**0.5)\n",
    "\n",
    "# Train the model with the best parameters\n",
    "best_model = xgb.XGBRegressor(objective='reg:squarederror', **best_params)\n",
    "best_model.fit(X_train, y_train)\n",
    "\n",
    "# Make predictions on the testing data using the best model\n",
    "y_test_pred = best_model.predict(X_test)\n",
    "\n",
    "# Calculate the testing RMSE with the best model\n",
    "test_rmse = mean_squared_error(y_test, y_test_pred, squared=False)\n",
    "print(\"Testing RMSE with Best Model:\", test_rmse)"
   ]
  },
  {
   "cell_type": "markdown",
   "metadata": {},
   "source": [
    "### Predict Unlabled Dataset"
   ]
  },
  {
   "cell_type": "markdown",
   "metadata": {},
   "source": [
    "#### Clean Unlabled Data"
   ]
  },
  {
   "cell_type": "code",
   "execution_count": 15,
   "metadata": {},
   "outputs": [
    {
     "name": "stderr",
     "output_type": "stream",
     "text": [
      "/var/folders/vb/08bw66p50l7fsmzng9tj5m9h0000gn/T/ipykernel_44583/3474224105.py:1: DtypeWarning: Columns (30) have mixed types. Specify dtype option on import or set low_memory=False.\n",
      "  unlabeled_data = pd.read_csv('test.csv')\n"
     ]
    },
    {
     "name": "stdout",
     "output_type": "stream",
     "text": [
      "nan\n",
      "nan\n",
      "nan\n"
     ]
    }
   ],
   "source": [
    "unlabeled_data = pd.read_csv('test.csv')\n",
    "\n",
    "unlabeled_cleaned = unlabeled_data.drop([\n",
    "    'id', \n",
    "    'host_name', \n",
    "    'country', \n",
    "    'country_code', \n",
    "    'state', \n",
    "    'market', \n",
    "    'city', \n",
    "    'host_neighbourhood', \n",
    "    'host_acceptance_rate', \n",
    "    'experiences_offered'], axis=1)\n",
    "\n",
    "\n",
    "# Clean and format dates\n",
    "date_features = ['host_since', 'first_review', 'last_review']\n",
    "for i in range(len(date_features)):\n",
    "    unlabeled_cleaned[date_features[i]] = unlabeled_cleaned[date_features[i]].apply(lambda x: \\\n",
    "        datetime.strptime(x, '%Y-%m-%d').timestamp() \\\n",
    "        if x is not np.nan else x)\n",
    "\n",
    "\n",
    "# Clean bool features\n",
    "bool_features = [\n",
    "    'require_guest_phone_verification', \n",
    "    'require_guest_profile_picture', \n",
    "    'is_business_travel_ready',\n",
    "    'instant_bookable',\n",
    "    'host_identity_verified',\n",
    "    'host_has_profile_pic',\n",
    "    'host_is_superhost']\n",
    "\n",
    "for i in range(len(bool_features)):\n",
    "    unlabeled_cleaned[bool_features[i]] = unlabeled_cleaned[bool_features[0]] \\\n",
    "        .apply(lambda x: x=='t' or x==True if x is not np.nan else x)\n",
    "    \n",
    "\n",
    "# Converting string features containing numeric information to numeric dtypes.\n",
    "# Converts host_response_rate from strings representing percentages to proportions.\n",
    "unlabeled_cleaned['host_response_rate'] = unlabeled_cleaned['host_response_rate'].apply(\n",
    "    lambda x: float(x.replace('%',''))/100 if x is not np.nan else x)\n",
    "# Converts extra_people from strings representing prices to floats.\n",
    "unlabeled_cleaned['extra_people'] = unlabeled_cleaned['extra_people'].apply(\n",
    "    lambda x: float(x.replace('$','')) if x is not np.nan else x)\n",
    "\n",
    "\n",
    "# Removes most doubles from zipcode by correcting formatting \n",
    "unlabeled_cleaned.zipcode = unlabeled_cleaned.zipcode.apply(\n",
    "    lambda x: str(x).replace('.0', ''))\n",
    "\n",
    "# One-hot encodes the host verifications\n",
    "\n",
    "# Find unique verifications in host_verifications feature\n",
    "unique_host_verifications = pd.Series(\n",
    "    ', '.join(list(df.host_verifications.apply(\n",
    "        lambda x: x.replace(']', '').replace('[', '').replace(\"'\", '') \\\n",
    "            if x is not np.nan else '').unique())).split(','))\\\n",
    "    .apply(lambda x: x.replace(' ', ''))\\\n",
    "    .unique()\n",
    "unique_host_verifications = np.delete(unique_host_verifications, 17)\n",
    "\n",
    "\n",
    "verified_df = {v:[] for v in unique_host_verifications}\n",
    "# Helper function to check if a verification is in the strings in host_verifications\n",
    "def word_in_string(word, string):\n",
    "    pattern = r'\\b{}\\b'.format(re.escape(word))  # \\b is a word boundary\n",
    "    match = re.search(pattern, string)\n",
    "    return bool(match)\n",
    "# For each string in host_verifications, extracts all the verif_strings\n",
    "for verif_string in unlabeled_cleaned.host_verifications:\n",
    "    if type(verif_string) != str:\n",
    "        print(verif_string)\n",
    "        for v in unique_host_verifications:\n",
    "            verified_df[v].append(False)\n",
    "        continue\n",
    "    for v in unique_host_verifications:\n",
    "        verified_df[v].append(word_in_string(v, verif_string))\n",
    "\n",
    "verified_df = pd.DataFrame(verified_df)\n",
    "\n",
    "unlabeled_cleaned = unlabeled_cleaned.reset_index(drop=True) \\\n",
    "    .merge(verified_df, left_index=True, right_index=True)\n",
    "unlabeled_cleaned = unlabeled_cleaned.drop(['host_verifications'], axis=1)\n",
    "\n",
    "\n",
    "\n",
    "nyc_zip_codes = pd.read_csv('nyc-zip-codes.csv')\n",
    "\n",
    "z1 = unlabeled_cleaned.zipcode.apply(lambda x: str(x).replace('.0', ''))\n",
    "\n",
    "z2 = z1.apply(lambda x: x if '-' not in x else x.split('-')[0])\n",
    "\n",
    "z3 = z2.apply(lambda x: x if '\\n' not in x else x.split('\\n')[0])\n",
    "\n",
    "def zip_to_int(zipcode):\n",
    "    try: return int(zipcode)\n",
    "    except: return np.nan\n",
    "\n",
    "int_zips = z3.apply(zip_to_int)\n",
    "\n",
    "valid_zips = int_zips.apply(\n",
    "    lambda x: x if sum(x==nyc_zip_codes.ZipCode)>=1 else np.nan)\n",
    "\n",
    "one_hot_zipcodes = pd.get_dummies(valid_zips)\n",
    "one_hot_zipcodes = one_hot_zipcodes.reindex(columns=nyc_zip_codes.ZipCode, fill_value=0)\n",
    "\n",
    "unlabeled_cleaned = unlabeled_cleaned.reset_index(drop=True) \\\n",
    "    .merge(one_hot_zipcodes, left_index=True, right_index=True)\n",
    "unlabeled_cleaned = unlabeled_cleaned.drop(['zipcode'], axis=1)\n",
    "\n",
    "\n",
    "\n",
    "one_hot_features = [\n",
    "    'room_type', \n",
    "    'neighbourhood_group_cleansed', \n",
    "    'bed_type', \n",
    "    'host_response_time', \n",
    "    'cancellation_policy', \n",
    "    'property_type',\n",
    "    'neighbourhood_cleansed']\n",
    "\n",
    "unlabeled_cleaned = pd.get_dummies(unlabeled_cleaned, columns=one_hot_features)\n",
    "unlabeled_cleaned = unlabeled_cleaned.reindex(columns=X.columns, fill_value=False)\n",
    "\n",
    "\n",
    "\n",
    "\n",
    "# Impute host response time with means\n",
    "unlabeled_cleaned.host_response_rate = unlabeled_cleaned.host_response_rate \\\n",
    "    .fillna(unlabeled_cleaned.host_response_rate.mean())\n",
    "\n",
    "# Impute host_since with the mode\n",
    "unlabeled_cleaned.host_since = unlabeled_cleaned.host_since \\\n",
    "    .fillna(1.427699e+09)\n",
    "\n",
    "# Impute host_listings_count with mean\n",
    "unlabeled_cleaned.host_listings_count = unlabeled_cleaned.host_listings_count \\\n",
    "    .fillna(unlabeled_cleaned.host_listings_count.mean())\n",
    "\n",
    "# Impute bathrooms with mean\n",
    "unlabeled_cleaned.bathrooms = unlabeled_cleaned.bathrooms \\\n",
    "    .fillna(unlabeled_cleaned.bathrooms.mean())\n",
    "\n",
    "# Impute bedrooms with mean\n",
    "unlabeled_cleaned.bedrooms = unlabeled_cleaned.bedrooms \\\n",
    "    .fillna(unlabeled_cleaned.bedrooms.mean())\n",
    "\n",
    "# Impute beds with mean\n",
    "unlabeled_cleaned.beds = unlabeled_cleaned.beds \\\n",
    "    .fillna(unlabeled_cleaned.beds.mean())\n",
    "\n",
    "\n",
    "## The following are missing a significant number of values ## \n",
    "## Consider a stronger method of imputation for these ##\n",
    "\n",
    "# Impute first_review with mode\n",
    "unlabeled_cleaned.first_review = unlabeled_cleaned.first_review \\\n",
    "    .fillna(unlabeled_cleaned.first_review.mode())\n",
    "\n",
    "# Impute last_review with mode\n",
    "unlabeled_cleaned.last_review = unlabeled_cleaned.last_review \\\n",
    "    .fillna(unlabeled_cleaned.last_review.mode())\n",
    "\n",
    "# Impute review_scores_rating with mean\n",
    "unlabeled_cleaned.review_scores_rating = unlabeled_cleaned.review_scores_rating \\\n",
    "    .fillna(unlabeled_cleaned.review_scores_rating.mean())\n",
    "\n",
    "# Impute review_scores_accuracy with mean\n",
    "unlabeled_cleaned.review_scores_accuracy = unlabeled_cleaned.review_scores_accuracy \\\n",
    "    .fillna(unlabeled_cleaned.review_scores_accuracy.mean())\n",
    "\n",
    "# Impute review_scores_cleanliness with mean\n",
    "unlabeled_cleaned.review_scores_cleanliness = unlabeled_cleaned.review_scores_cleanliness \\\n",
    "    .fillna(unlabeled_cleaned.review_scores_cleanliness.mean())\n",
    "\n",
    "# Impute review_scores_checkin with mean\n",
    "unlabeled_cleaned.review_scores_checkin = unlabeled_cleaned.review_scores_checkin \\\n",
    "    .fillna(unlabeled_cleaned.review_scores_checkin.mean())\n",
    "\n",
    "# Impute review_scores_communication with mean\n",
    "unlabeled_cleaned.review_scores_communication = unlabeled_cleaned.review_scores_communication \\\n",
    "    .fillna(unlabeled_cleaned.review_scores_communication.mean())\n",
    "\n",
    "# Impute review_scores_location with mean\n",
    "unlabeled_cleaned.review_scores_location = unlabeled_cleaned.review_scores_location \\\n",
    "    .fillna(unlabeled_cleaned.review_scores_location.mean())\n",
    "\n",
    "# Impute review_scores_value with mean\n",
    "unlabeled_cleaned.review_scores_value = unlabeled_cleaned.review_scores_value \\\n",
    "    .fillna(unlabeled_cleaned.review_scores_value.mean())\n",
    "\n",
    "# Impute reviews_per_month with mean\n",
    "unlabeled_cleaned.reviews_per_month = unlabeled_cleaned.reviews_per_month \\\n",
    "    .fillna(unlabeled_cleaned.reviews_per_month.mean())\n",
    "\n",
    "# Impute last_review with the mode\n",
    "unlabeled_cleaned.last_review = unlabeled_cleaned.last_review \\\n",
    "    .fillna(1.540710e+09)\n",
    "\n",
    "# Impute first_review with the mode\n",
    "unlabeled_cleaned.first_review = unlabeled_cleaned.last_review \\\n",
    "    .fillna(1.514794e+09)\n",
    "\n",
    "# Since almost all of square feet is missing we impute it as a boolean\n",
    "unlabeled_cleaned.square_feet = ~unlabeled_cleaned.square_feet.isna()"
   ]
  },
  {
   "cell_type": "markdown",
   "metadata": {},
   "source": [
    "#### Run Predictions"
   ]
  },
  {
   "cell_type": "code",
   "execution_count": 16,
   "metadata": {},
   "outputs": [
    {
     "ename": "NameError",
     "evalue": "name 'best_model' is not defined",
     "output_type": "error",
     "traceback": [
      "\u001b[0;31m---------------------------------------------------------------------------\u001b[0m",
      "\u001b[0;31mNameError\u001b[0m                                 Traceback (most recent call last)",
      "Cell \u001b[0;32mIn[16], line 3\u001b[0m\n\u001b[1;32m      1\u001b[0m unlabled_predictions \u001b[38;5;241m=\u001b[39m pd\u001b[38;5;241m.\u001b[39mDataFrame()\u001b[38;5;241m.\u001b[39massign(\n\u001b[1;32m      2\u001b[0m     Id \u001b[38;5;241m=\u001b[39m unlabeled_data\u001b[38;5;241m.\u001b[39mid,\n\u001b[0;32m----> 3\u001b[0m     Predicted \u001b[38;5;241m=\u001b[39m \u001b[43mbest_model\u001b[49m\u001b[38;5;241m.\u001b[39mpredict(unlabeled_cleaned)\n\u001b[1;32m      4\u001b[0m )\n",
      "\u001b[0;31mNameError\u001b[0m: name 'best_model' is not defined"
     ]
    }
   ],
   "source": [
    "unlabled_predictions = pd.DataFrame().assign(\n",
    "    Id = unlabeled_data.id,\n",
    "    Predicted = best_model.predict(unlabeled_cleaned)\n",
    ")"
   ]
  },
  {
   "cell_type": "code",
   "execution_count": 141,
   "metadata": {},
   "outputs": [],
   "source": [
    "unlabled_predictions.to_csv('submission.csv', index=False)"
   ]
  },
  {
   "cell_type": "code",
   "execution_count": null,
   "metadata": {},
   "outputs": [],
   "source": []
  }
 ],
 "metadata": {
  "kernelspec": {
   "display_name": "Python 3",
   "language": "python",
   "name": "python3"
  },
  "language_info": {
   "codemirror_mode": {
    "name": "ipython",
    "version": 3
   },
   "file_extension": ".py",
   "mimetype": "text/x-python",
   "name": "python",
   "nbconvert_exporter": "python",
   "pygments_lexer": "ipython3",
   "version": "3.10.12"
  }
 },
 "nbformat": 4,
 "nbformat_minor": 2
}
