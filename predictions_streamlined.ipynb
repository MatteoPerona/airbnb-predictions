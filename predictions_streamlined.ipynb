{
 "cells": [
  {
   "cell_type": "code",
   "execution_count": 1,
   "metadata": {},
   "outputs": [],
   "source": [
    "import numpy as np\n",
    "import pandas as pd \n",
    "import re\n",
    "from datetime import datetime\n",
    "\n",
    "import seaborn as sns\n",
    "import matplotlib.pyplot as plt\n",
    "\n",
    "from sklearn.compose import ColumnTransformer\n",
    "from sklearn.pipeline import Pipeline\n",
    "from sklearn.base import BaseEstimator, TransformerMixin\n",
    "from sklearn.preprocessing import FunctionTransformer, OneHotEncoder\n",
    "from sklearn.experimental import enable_iterative_imputer\n",
    "from sklearn.impute import SimpleImputer, IterativeImputer"
   ]
  },
  {
   "cell_type": "code",
   "execution_count": 13,
   "metadata": {},
   "outputs": [
    {
     "name": "stderr",
     "output_type": "stream",
     "text": [
      "/var/folders/vb/08bw66p50l7fsmzng9tj5m9h0000gn/T/ipykernel_48159/2861709684.py:1: DtypeWarning: Columns (30) have mixed types. Specify dtype option on import or set low_memory=False.\n",
      "  df = pd.read_csv('train.csv')\n"
     ]
    }
   ],
   "source": [
    "df = pd.read_csv('train.csv')\n",
    "price = df.price\n",
    "df = df.drop('price', axis=1)"
   ]
  },
  {
   "cell_type": "markdown",
   "metadata": {},
   "source": [
    "### Custom Transformers"
   ]
  },
  {
   "cell_type": "code",
   "execution_count": 51,
   "metadata": {},
   "outputs": [],
   "source": [
    "class CustomBoolTransformer(BaseEstimator, TransformerMixin):\n",
    "    \"\"\"\n",
    "    Custom transformer that converts strings 't' and 'f' into boolean values True and False respectively,\n",
    "    while leaving null values as np.nan.\n",
    "    \"\"\"\n",
    "    def fit(self, X, y=None):\n",
    "        return self\n",
    "    \n",
    "    def transform(self, X, y=None):\n",
    "        X_transformed = np.where(X=='t', True, np.where(X=='f', False, np.nan))\n",
    "        return X_transformed\n",
    "    \n",
    "class DateToTimestampTransformer(BaseEstimator, TransformerMixin):\n",
    "    \"\"\"\n",
    "    Custom transformer that converts date strings to timestamps.\n",
    "    \"\"\"\n",
    "    def fit(self, X, y=None):\n",
    "        return self\n",
    "    \n",
    "    def transform(self, X, y=None):\n",
    "        # Ensure X is a DataFrame\n",
    "        if not isinstance(X, pd.DataFrame):\n",
    "            X = pd.DataFrame(X)\n",
    "        \n",
    "        # Convert each entry in the DataFrame\n",
    "        for column in X.columns:\n",
    "            X[column] = X[column].apply(lambda x: datetime.strptime(x, '%Y-%m-%d').timestamp() if pd.notnull(x) else np.nan)\n",
    "        return X\n",
    "\n",
    "class PriceToFloatTransformer(BaseEstimator, TransformerMixin):\n",
    "    \"\"\"\n",
    "    Custom transformer that converts strings representing prices to floats by removing the $ character and converting to float,\n",
    "    while leaving null values as null.\n",
    "    \"\"\"\n",
    "    def fit(self, X, y=None):\n",
    "        return self\n",
    "    \n",
    "    def transform(self, X, y=None):\n",
    "        if not isinstance(X, pd.DataFrame):\n",
    "            X = pd.DataFrame(X)\n",
    "        \n",
    "        for column in X.columns:\n",
    "            X[column] = X[column].apply(lambda x: float(x.replace('$', '')) if pd.notnull(x) else x)\n",
    "        return X\n",
    "    \n",
    "\n",
    "unique_host_verifications = pd.Series(\n",
    "    ', '.join(list(df.host_verifications.apply(\n",
    "        lambda x: x.replace(']', '').replace('[', '').replace(\"'\", '') \\\n",
    "            if x is not np.nan else '').unique())).split(','))\\\n",
    "    .apply(lambda x: x.replace(' ', ''))\\\n",
    "    .unique()\n",
    "unique_host_verifications = np.delete(unique_host_verifications, 17)\n",
    "def host_verifications_transformer(X):\n",
    "    # unique_host_verifications = pd.Series(\n",
    "    #     ', '.join(list(X.host_verifications.apply(\n",
    "    #         lambda x: x.replace(']', '').replace('[', '').replace(\"'\", '') \\\n",
    "    #             if x is not np.nan else '').unique())).split(','))\\\n",
    "    #     .apply(lambda x: x.replace(' ', ''))\\\n",
    "    #     .unique()\n",
    "    # unique_host_verifications = np.delete(unique_host_verifications, 17)\n",
    "\n",
    "    verified_df = {v:[] for v in unique_host_verifications}\n",
    "    def word_in_string(word, string):\n",
    "        pattern = r'\\b{}\\b'.format(re.escape(word))\n",
    "        match = re.search(pattern, string)\n",
    "        return bool(match)\n",
    "    for verif_string in X.host_verifications:\n",
    "        if type(verif_string) != str:\n",
    "            for v in unique_host_verifications:\n",
    "                verified_df[v].append(False)\n",
    "            continue\n",
    "        for v in unique_host_verifications:\n",
    "            verified_df[v].append(word_in_string(v, verif_string))\n",
    "\n",
    "    verified_df = pd.DataFrame(verified_df)\n",
    "    X = X.reset_index(drop=True).merge(verified_df, left_index=True, right_index=True)\n",
    "    X = X.drop(['host_verifications'], axis=1)\n",
    "    return X\n",
    "\n",
    "def one_hot_zipcodes(X):\n",
    "    X['zipcode'] = X['zipcode'].apply(lambda x: str(x).replace('.0', ''))\n",
    "\n",
    "    nyc_zip_codes = pd.read_csv('nyc-zip-codes.csv')\n",
    "\n",
    "    z1 = X.zipcode.apply(lambda x: str(x).replace('.0', ''))\n",
    "\n",
    "    z2 = z1.apply(lambda x: x if '-' not in x else x.split('-')[0])\n",
    "\n",
    "    z3 = z2.apply(lambda x: x if '\\n' not in x else x.split('\\n')[0])\n",
    "\n",
    "    def zip_to_int(zipcode):\n",
    "        try: return int(zipcode)\n",
    "        except: return np.nan\n",
    "\n",
    "    int_zips = z3.apply(zip_to_int)\n",
    "\n",
    "    valid_zips = int_zips.apply(\n",
    "        lambda x: x if sum(x==nyc_zip_codes.ZipCode)>=1 else np.nan)\n",
    "\n",
    "    one_hot_zipcodes = pd.get_dummies(valid_zips)\n",
    "    one_hot_zipcodes = one_hot_zipcodes.reindex(columns=nyc_zip_codes.ZipCode, fill_value=0)\n",
    "\n",
    "    X = X.reset_index(drop=True) \\\n",
    "        .merge(one_hot_zipcodes, left_index=True, right_index=True)\n",
    "    X = X.drop(['zipcode'], axis=1)\n",
    "    return X\n",
    "\n",
    "\n",
    "amenities_list = df['amenities'].str.replace('{', '')\n",
    "amenities_list = amenities_list.str.replace('}', '')\n",
    "amenities_list = amenities_list.str.replace('\"', '').str.split(',')\n",
    "unique_amenities = set([item for sublist in amenities_list for item in sublist])\n",
    "def transform_amenities(X):\n",
    "    def create_amenities_df(X):\n",
    "        # amenities_list = X['amenities'].str.replace('{', '')\n",
    "        # amenities_list = amenities_list.str.replace('}', '')\n",
    "        # amenities_list = amenities_list.str.replace('\"', '').str.split(',')\n",
    "        # unique_amenities = set([item for sublist in amenities_list for item in sublist])\n",
    "        \n",
    "        amenities_df = {}\n",
    "        for amenity in unique_amenities:\n",
    "            amenities_df[amenity] = X['amenities'].apply(lambda x: amenity in x)\n",
    "        \n",
    "        return pd.DataFrame(amenities_df)\n",
    "    \n",
    "    amenities_df = create_amenities_df(X)\n",
    "\n",
    "    X = X.reset_index(drop=True) \\\n",
    "        .merge(amenities_df, left_index=True, right_index=True)\n",
    "    X = X.drop(['amenities'], axis=1)\n",
    "\n",
    "    return X\n",
    "\n",
    "enc = OneHotEncoder(handle_unknown='ignore').fit(df[one_hot_features])\n",
    "class PretrainedOneHotEncoder(BaseEstimator, TransformerMixin):\n",
    "    \"\"\"\n",
    "    Custom transformer for one hot encoding based on training data.\n",
    "    \"\"\"\n",
    "    def fit(self, X, y=None):\n",
    "        return self\n",
    "    \n",
    "    def transform(self, X, y=None):\n",
    "        return enc.transform(X)\n",
    "        \n"
   ]
  },
  {
   "cell_type": "markdown",
   "metadata": {},
   "source": [
    "### Preprocessing "
   ]
  },
  {
   "cell_type": "code",
   "execution_count": 52,
   "metadata": {},
   "outputs": [
    {
     "data": {
      "text/plain": [
       "array([[1.0, 0.0, 0.0, ..., 12, 6, 1],\n",
       "       [1.0, 0.0, 0.0, ..., 30, 137, 3],\n",
       "       [1.0, 0.0, 0.0, ..., 1125, 3, 1],\n",
       "       ...,\n",
       "       [0.0, 1.0, 0.0, ..., 365, 0, 1],\n",
       "       [0.0, 1.0, 0.0, ..., 1125, 1, 3],\n",
       "       [1.0, 0.0, 0.0, ..., 120, 56, 1]], dtype=object)"
      ]
     },
     "execution_count": 52,
     "metadata": {},
     "output_type": "execute_result"
    }
   ],
   "source": [
    "date_features = ['host_since', 'first_review', 'last_review']\n",
    "\n",
    "bool_features = [\n",
    "    'require_guest_phone_verification', 'require_guest_profile_picture', \n",
    "    'is_business_travel_ready', 'instant_bookable', \n",
    "    'host_identity_verified', 'host_has_profile_pic', 'host_is_superhost'\n",
    "]\n",
    "\n",
    "one_hot_features = [\n",
    "    'room_type', 'neighbourhood_group_cleansed', 'bed_type', \n",
    "    'host_response_time', 'cancellation_policy', 'property_type',\n",
    "    'neighbourhood_cleansed'\n",
    "]\n",
    "\n",
    "numeric_cols_no_nulls = [\n",
    "    'host_id', 'accommodates', 'number_of_reviews', 'maximum_nights', \n",
    "    'minimum_nights', 'guests_included', 'calculated_host_listings_count'\n",
    "] \n",
    "\n",
    "# Some of these are missing many more values than others and could probably be \n",
    "# imputed better.\n",
    "numeric_needs_impute = [\n",
    "    'host_listings_count', 'bathrooms', 'bedrooms', 'beds',\n",
    "    'review_scores_rating', 'review_scores_accuracy',\n",
    "    'review_scores_cleanliness', 'review_scores_checkin',\n",
    "    'review_scores_communication', 'review_scores_location',\n",
    "    'review_scores_value', 'reviews_per_month'\n",
    "]\n",
    "\n",
    "# non_date_columns = [col for col in df.columns if col not in date_features]\n",
    "# non_bool_columns = [col for col in df.columns if col not in bool_features]\n",
    "# non_onehot_columns = [col for col in df.columns if col not in one_hot_features]\n",
    "\n",
    "cols_used = (\n",
    "    date_features + bool_features \n",
    "    #+ one_hot_features\n",
    "    + ['zipcode'] \n",
    "    + ['extra_people'] \n",
    "    + ['amenities'] \n",
    "    + ['host_verifications']\n",
    "    + numeric_cols_no_nulls + numeric_needs_impute\n",
    ")\n",
    "\n",
    "unused_cols = [col for col in df.columns if col not in cols_used]\n",
    "\n",
    "boolean_pipeline = Pipeline(steps=[\n",
    "    ('bool_transform', CustomBoolTransformer()),\n",
    "    ('imputer', SimpleImputer(strategy='constant', fill_value=False))\n",
    "])\n",
    "\n",
    "date_pipeline = Pipeline(steps=[\n",
    "    ('bool_transform', DateToTimestampTransformer()),\n",
    "    ('imputer', IterativeImputer())\n",
    "])\n",
    "\n",
    "\n",
    "one_hot_pipeline = Pipeline(steps=[\n",
    "    ('one_hot_encoding', PretrainedOneHotEncoder()),\n",
    "    ('imputer', SimpleImputer(strategy='constant', fill_value=False))\n",
    "])\n",
    "\n",
    "numeric_pipeline = Pipeline(steps=[\n",
    "    ('imputer', IterativeImputer())\n",
    "])\n",
    "\n",
    "\n",
    "preprocessor = ColumnTransformer(\n",
    "    transformers=[\n",
    "        ('drop_columns', 'drop', unused_cols),\n",
    "        ('one_hot_encoding', one_hot_pipeline, one_hot_features),\n",
    "        ('one_hot_zipcodes', FunctionTransformer(one_hot_zipcodes), ['zipcode']),\n",
    "        ('transform_amenities', FunctionTransformer(transform_amenities), ['amenities']),\n",
    "        ('host_verifications_transform', FunctionTransformer(host_verifications_transformer), ['host_verifications']),\n",
    "        ('numeric_to_float', PriceToFloatTransformer(), ['extra_people']),\n",
    "        ('bool_transform', boolean_pipeline, bool_features),\n",
    "        ('date_transform', date_pipeline, date_features),\n",
    "        ('numeric_transform', numeric_pipeline, numeric_needs_impute)\n",
    "    ], remainder='passthrough')\n",
    "\n",
    "\n",
    "airbnb_preprocess = Pipeline(steps=[('preprocessor', preprocessor)])\n",
    "\n",
    "df_cleaned = airbnb_preprocess.fit_transform(df)\n",
    "df_cleaned"
   ]
  },
  {
   "cell_type": "markdown",
   "metadata": {},
   "source": [
    "#### Tests"
   ]
  },
  {
   "cell_type": "code",
   "execution_count": 59,
   "metadata": {},
   "outputs": [
    {
     "data": {
      "text/plain": [
       "['summary',\n",
       " 'space',\n",
       " 'description',\n",
       " 'experiences_offered',\n",
       " 'neighborhood_overview',\n",
       " 'notes',\n",
       " 'transit',\n",
       " 'access',\n",
       " 'interaction',\n",
       " 'house_rules',\n",
       " 'host_location',\n",
       " 'host_about',\n",
       " 'host_neighbourhood',\n",
       " 'host_verifications',\n",
       " 'zipcode',\n",
       " 'amenities',\n",
       " 'extra_people']"
      ]
     },
     "execution_count": 59,
     "metadata": {},
     "output_type": "execute_result"
    }
   ],
   "source": [
    "rejected_cols = [\n",
    "    'id', 'price', 'host_acceptance_rate', 'square_feet', 'host_response_rate',\n",
    "    'city', 'state', 'market', 'country_code', 'country', 'host_name', 'name',\n",
    "    \n",
    "]\n",
    "cols_left_over = [col for col in unused_cols if col not in rejected_cols]\n",
    "cols_left_over"
   ]
  },
  {
   "cell_type": "code",
   "execution_count": 19,
   "metadata": {},
   "outputs": [
    {
     "name": "stderr",
     "output_type": "stream",
     "text": [
      "/var/folders/vb/08bw66p50l7fsmzng9tj5m9h0000gn/T/ipykernel_47903/4235689606.py:6: FutureWarning: \n",
      "\n",
      "Passing `palette` without assigning `hue` is deprecated and will be removed in v0.14.0. Assign the `y` variable to `hue` and set `legend=False` for the same effect.\n",
      "\n",
      "  ax = sns.barplot(x=missing_values.values, y=missing_values.index, palette='rocket')\n",
      "/var/folders/vb/08bw66p50l7fsmzng9tj5m9h0000gn/T/ipykernel_47903/4235689606.py:12: FutureWarning: Series.__getitem__ treating keys as positions is deprecated. In a future version, integer keys will always be treated as labels (consistent with DataFrame behavior). To access a value by position, use `ser.iloc[pos]`\n",
      "  ax.text(missing_values[i], i, f'{missing_values[i]*100:.2f}%', ha='left', va='center')\n"
     ]
    },
    {
     "data": {
      "image/png": "[encoded data removed]",
      "text/plain": [
       "<Figure size 1000x600 with 1 Axes>"
      ]
     },
     "metadata": {},
     "output_type": "display_data"
    }
   ],
   "source": [
    "# Visualizes the proportion of missing values for columns in cols_left_over using a bar plot\n",
    "import seaborn as sns\n",
    "\n",
    "missing_values = df[cols_left_over].isnull().mean().sort_values()\n",
    "plt.figure(figsize=(10, 6))\n",
    "ax = sns.barplot(x=missing_values.values, y=missing_values.index, palette='rocket')\n",
    "plt.xlabel('Proportion of Missing Values')\n",
    "plt.ylabel('Columns')\n",
    "plt.title('Proportion of Missing Values for Columns in cols_left_over')\n",
    "\n",
    "for i in range(len(missing_values)):\n",
    "    ax.text(missing_values[i], i, f'{missing_values[i]*100:.2f}%', ha='left', va='center')\n",
    "\n",
    "plt.show()"
   ]
  },
  {
   "cell_type": "code",
   "execution_count": 26,
   "metadata": {},
   "outputs": [
    {
     "data": {
      "text/plain": [
       "'{Wifi,\"Air conditioning\",Kitchen,Gym,Breakfast,Elevator,Heating,Washer,Dryer,\"Smoke detector\",\"Carbon monoxide detector\",\"First aid kit\",\"Safety card\",\"Fire extinguisher\",Essentials,Shampoo,Hangers,\"Hair dryer\",Iron,\"Laptop friendly workspace\",\"Self check-in\",\"Building staff\",\"Hot water\",\"Luggage dropoff allowed\"}'"
      ]
     },
     "execution_count": 26,
     "metadata": {},
     "output_type": "execute_result"
    }
   ],
   "source": [
    "df['amenities'][0]"
   ]
  },
  {
   "cell_type": "code",
   "execution_count": 32,
   "metadata": {},
   "outputs": [
    {
     "data": {
      "text/plain": [
       "'TV,Internet,Wifi,Air conditioning,Kitchen,Paid parking off premises,Free street parking,Buzzer/wireless intercom,Heating,Family/kid friendly,Washer,Dryer,Smoke detector,Carbon monoxide detector,First aid kit,Fire extinguisher,Essentials,Shampoo,24-hour check-in,Hangers,Hair dryer,Iron,Laptop friendly workspace,Private entrance,Hot water,Bed linens,Extra pillows and blankets,Microwave,Coffee maker,Refrigerator,Dishes and silverware,Cooking basics,Oven,Stove,Long term stays allowed,Host greets you'"
      ]
     },
     "execution_count": 32,
     "metadata": {},
     "output_type": "execute_result"
    }
   ],
   "source": [
    "amenities_list = df['amenities'].str.replace('{', '')\n",
    "amenities_list = amenities_list.str.replace('}', '')\n",
    "amenities_list = amenities_list.str.replace('\"', '')\n",
    "amenities_list[1]"
   ]
  },
  {
   "cell_type": "code",
   "execution_count": 38,
   "metadata": {},
   "outputs": [],
   "source": [
    "\n",
    "# Function to create a new dataframe from the 'amenities' column\n",
    "def transform_amenities(X):\n",
    "    def create_amenities_df(X):\n",
    "        amenities_list = X['amenities'].str.replace('{', '')\n",
    "        amenities_list = amenities_list.str.replace('}', '')\n",
    "        amenities_list = amenities_list.str.replace('\"', '').str.split(',')\n",
    "        unique_amenities = set([item for sublist in amenities_list for item in sublist])\n",
    "        \n",
    "        amenities_df = {}\n",
    "        for amenity in unique_amenities:\n",
    "            amenities_df[amenity] = X['amenities'].apply(lambda x: amenity in x)\n",
    "        \n",
    "        return pd.DataFrame(amenities_df)\n",
    "    \n",
    "    amenities_df = create_amenities_df(X)\n",
    "\n",
    "    X = X.reset_index(drop=True) \\\n",
    "        .merge(amenities_df, left_index=True, right_index=True)\n",
    "    X = X.drop(['amenities'], axis=1)\n",
    "\n",
    "    return X\n"
   ]
  },
  {
   "cell_type": "code",
   "execution_count": 36,
   "metadata": {},
   "outputs": [
    {
     "data": {
      "text/plain": [
       "id                          0\n",
       "price                       0\n",
       "square_feet             33197\n",
       "host_acceptance_rate    33538\n",
       "dtype: int64"
      ]
     },
     "execution_count": 36,
     "metadata": {},
     "output_type": "execute_result"
    }
   ],
   "source": [
    "numeric_unused_cols = [col for col in unused_cols if df[col].dtype in ['int64', 'float64']]\n",
    "df[numeric_unused_cols].isna().sum().sort_values()\n",
    "\n"
   ]
  },
  {
   "cell_type": "code",
   "execution_count": 55,
   "metadata": {},
   "outputs": [
    {
     "name": "stdout",
     "output_type": "stream",
     "text": [
      "Null counts for each feature in df_cleaned:\n",
      " 0\n"
     ]
    }
   ],
   "source": [
    "# Count the number of nulls for each feature in df_cleaned\n",
    "null_counts = pd.DataFrame(df_cleaned).isnull().sum()\n",
    "print(\"Null counts for each feature in df_cleaned:\\n\", null_counts.sum())\n",
    "\n"
   ]
  },
  {
   "cell_type": "markdown",
   "metadata": {},
   "source": [
    "### Model Building "
   ]
  },
  {
   "cell_type": "code",
   "execution_count": 53,
   "metadata": {},
   "outputs": [
    {
     "name": "stdout",
     "output_type": "stream",
     "text": [
      "X_train shape: (26830, 627)\n",
      "X_test shape: (6708, 627)\n",
      "y_train shape: (26830,)\n",
      "y_test shape: (6708,)\n"
     ]
    }
   ],
   "source": [
    "from sklearn.model_selection import train_test_split\n",
    "\n",
    "X = df_cleaned\n",
    "y = price\n",
    "\n",
    "# Split the data into training and testing sets\n",
    "X_train, X_test, y_train, y_test = train_test_split(X, y, test_size=0.2, random_state=42)\n",
    "\n",
    "# Print the shapes of the training and testing sets\n",
    "print(\"X_train shape:\", X_train.shape)\n",
    "print(\"X_test shape:\", X_test.shape)\n",
    "print(\"y_train shape:\", y_train.shape)\n",
    "print(\"y_test shape:\", y_test.shape)"
   ]
  },
  {
   "cell_type": "code",
   "execution_count": 54,
   "metadata": {},
   "outputs": [
    {
     "name": "stdout",
     "output_type": "stream",
     "text": [
      "Training RMSE: 51.07273878635044\n",
      "Testing RMSE: 88.33428300440447\n"
     ]
    }
   ],
   "source": [
    "import xgboost as xgb\n",
    "from sklearn.metrics import root_mean_squared_error\n",
    "\n",
    "# Create an XGBoost regressor (or classifier based on your problem)\n",
    "model = xgb.XGBRegressor(objective='reg:squarederror', random_state=42)\n",
    "\n",
    "# Train the model\n",
    "model.fit(X_train, y_train)\n",
    "\n",
    "# Make predictions on the training data\n",
    "y_train_pred = model.predict(X_train)\n",
    "\n",
    "# Calculate the training RMSE (Root Mean Squared Error)\n",
    "train_rmse = root_mean_squared_error(y_train, y_train_pred)\n",
    "print(\"Training RMSE:\", train_rmse)\n",
    "\n",
    "# Optionally, make predictions on the testing data\n",
    "y_test_pred = model.predict(X_test)\n",
    "\n",
    "# Calculate the testing RMSE (Root Mean Squared Error)\n",
    "test_rmse = root_mean_squared_error(y_test, y_test_pred)\n",
    "print(\"Testing RMSE:\", test_rmse)"
   ]
  },
  {
   "cell_type": "code",
   "execution_count": 57,
   "metadata": {},
   "outputs": [
    {
     "name": "stdout",
     "output_type": "stream",
     "text": [
      "Fitting 5 folds for each of 18 candidates, totalling 90 fits\n",
      "Best Parameters: {'learning_rate': 0.1, 'max_depth': 7, 'n_estimators': 200}\n",
      "Best Score (RMSE): 84.06846574532067\n",
      "Testing RMSE with Best Model: 87.1256014540916\n"
     ]
    },
    {
     "name": "stderr",
     "output_type": "stream",
     "text": [
      "/usr/local/lib/python3.10/site-packages/sklearn/metrics/_regression.py:483: FutureWarning: 'squared' is deprecated in version 1.4 and will be removed in 1.6. To calculate the root mean squared error, use the function'root_mean_squared_error'.\n",
      "  warnings.warn(\n"
     ]
    }
   ],
   "source": [
    "import xgboost as xgb\n",
    "from sklearn.model_selection import GridSearchCV\n",
    "from sklearn.metrics import mean_squared_error\n",
    "from sklearn.model_selection import KFold\n",
    "\n",
    "# Create an XGBoost regressor\n",
    "model = xgb.XGBRegressor(objective='reg:squarederror', random_state=42)\n",
    "\n",
    "# Define the grid of hyperparameters to search\n",
    "param_grid = {\n",
    "    'learning_rate': [0.1, 0.01],\n",
    "    'max_depth': [3, 5, 7],\n",
    "    'n_estimators': [50, 100, 200]\n",
    "}\n",
    "\n",
    "# Perform Grid Search with 5-fold cross-validation\n",
    "kf = KFold(n_splits=5, shuffle=True, random_state=42)\n",
    "grid_search = GridSearchCV(estimator=model, param_grid=param_grid, scoring='neg_mean_squared_error', cv=kf, verbose=1, n_jobs=-1)\n",
    "grid_result = grid_search.fit(X_train, y_train)\n",
    "\n",
    "# Get the best parameters and best score\n",
    "best_params = grid_result.best_params_\n",
    "best_score = grid_result.best_score_\n",
    "\n",
    "print(\"Best Parameters:\", best_params)\n",
    "print(\"Best Score (RMSE):\", (-best_score)**0.5)\n",
    "\n",
    "# Train the model with the best parameters\n",
    "best_model = xgb.XGBRegressor(objective='reg:squarederror', **best_params)\n",
    "best_model.fit(X_train, y_train)\n",
    "\n",
    "# Make predictions on the testing data using the best model\n",
    "y_test_pred = best_model.predict(X_test)\n",
    "\n",
    "# Calculate the testing RMSE with the best model\n",
    "test_rmse = mean_squared_error(y_test, y_test_pred, squared=False)\n",
    "print(\"Testing RMSE with Best Model:\", test_rmse)"
   ]
  },
  {
   "cell_type": "markdown",
   "metadata": {},
   "source": [
    "### Run Predictions"
   ]
  },
  {
   "cell_type": "code",
   "execution_count": 58,
   "metadata": {},
   "outputs": [
    {
     "name": "stderr",
     "output_type": "stream",
     "text": [
      "/var/folders/vb/08bw66p50l7fsmzng9tj5m9h0000gn/T/ipykernel_48159/1937014264.py:1: DtypeWarning: Columns (30) have mixed types. Specify dtype option on import or set low_memory=False.\n",
      "  unlabled_df = pd.read_csv('test.csv')\n"
     ]
    },
    {
     "data": {
      "text/html": [
       "<div>\n",
       "<style scoped>\n",
       "    .dataframe tbody tr th:only-of-type {\n",
       "        vertical-align: middle;\n",
       "    }\n",
       "\n",
       "    .dataframe tbody tr th {\n",
       "        vertical-align: top;\n",
       "    }\n",
       "\n",
       "    .dataframe thead th {\n",
       "        text-align: right;\n",
       "    }\n",
       "</style>\n",
       "<table border=\"1\" class=\"dataframe\">\n",
       "  <thead>\n",
       "    <tr style=\"text-align: right;\">\n",
       "      <th></th>\n",
       "      <th>Id</th>\n",
       "      <th>Predicted</th>\n",
       "    </tr>\n",
       "  </thead>\n",
       "  <tbody>\n",
       "    <tr>\n",
       "      <th>0</th>\n",
       "      <td>19307997</td>\n",
       "      <td>376.861115</td>\n",
       "    </tr>\n",
       "    <tr>\n",
       "      <th>1</th>\n",
       "      <td>20176193</td>\n",
       "      <td>126.403358</td>\n",
       "    </tr>\n",
       "    <tr>\n",
       "      <th>2</th>\n",
       "      <td>19485371</td>\n",
       "      <td>37.054535</td>\n",
       "    </tr>\n",
       "    <tr>\n",
       "      <th>3</th>\n",
       "      <td>13079990</td>\n",
       "      <td>62.527893</td>\n",
       "    </tr>\n",
       "    <tr>\n",
       "      <th>4</th>\n",
       "      <td>22339757</td>\n",
       "      <td>45.777748</td>\n",
       "    </tr>\n",
       "    <tr>\n",
       "      <th>...</th>\n",
       "      <td>...</td>\n",
       "      <td>...</td>\n",
       "    </tr>\n",
       "    <tr>\n",
       "      <th>17332</th>\n",
       "      <td>22325617</td>\n",
       "      <td>76.404289</td>\n",
       "    </tr>\n",
       "    <tr>\n",
       "      <th>17333</th>\n",
       "      <td>8372650</td>\n",
       "      <td>351.809967</td>\n",
       "    </tr>\n",
       "    <tr>\n",
       "      <th>17334</th>\n",
       "      <td>3812554</td>\n",
       "      <td>91.359039</td>\n",
       "    </tr>\n",
       "    <tr>\n",
       "      <th>17335</th>\n",
       "      <td>18891508</td>\n",
       "      <td>49.471432</td>\n",
       "    </tr>\n",
       "    <tr>\n",
       "      <th>17336</th>\n",
       "      <td>18111901</td>\n",
       "      <td>126.796043</td>\n",
       "    </tr>\n",
       "  </tbody>\n",
       "</table>\n",
       "<p>17337 rows × 2 columns</p>\n",
       "</div>"
      ],
      "text/plain": [
       "             Id   Predicted\n",
       "0      19307997  376.861115\n",
       "1      20176193  126.403358\n",
       "2      19485371   37.054535\n",
       "3      13079990   62.527893\n",
       "4      22339757   45.777748\n",
       "...         ...         ...\n",
       "17332  22325617   76.404289\n",
       "17333   8372650  351.809967\n",
       "17334   3812554   91.359039\n",
       "17335  18891508   49.471432\n",
       "17336  18111901  126.796043\n",
       "\n",
       "[17337 rows x 2 columns]"
      ]
     },
     "execution_count": 58,
     "metadata": {},
     "output_type": "execute_result"
    }
   ],
   "source": [
    "unlabled_df = pd.read_csv('test.csv')\n",
    "unlabled_df_cleaned = airbnb_preprocess.fit_transform(unlabled_df)\n",
    "# unlabled_df_cleaned = unlabled_df_cleaned.reindex(columns=df_cleaned.columns, fill_value=False)\n",
    "\n",
    "unlabled_predictions = pd.DataFrame().assign(\n",
    "    Id = unlabled_df.id,\n",
    "    Predicted = best_model.predict(unlabled_df_cleaned)\n",
    ")\n",
    "unlabled_predictions"
   ]
  },
  {
   "cell_type": "code",
   "execution_count": 59,
   "metadata": {},
   "outputs": [],
   "source": [
    "unlabled_predictions.to_csv('submission2.csv', index=False)\n",
    "\n"
   ]
  },
  {
   "cell_type": "code",
   "execution_count": null,
   "metadata": {},
   "outputs": [],
   "source": []
  }
 ],
 "metadata": {
  "kernelspec": {
   "display_name": "Python 3",
   "language": "python",
   "name": "python3"
  },
  "language_info": {
   "codemirror_mode": {
    "name": "ipython",
    "version": 3
   },
   "file_extension": ".py",
   "mimetype": "text/x-python",
   "name": "python",
   "nbconvert_exporter": "python",
   "pygments_lexer": "ipython3",
   "version": "3.10.12"
  }
 },
 "nbformat": 4,
 "nbformat_minor": 2
}
